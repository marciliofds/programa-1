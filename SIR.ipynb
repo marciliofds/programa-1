{
  "nbformat": 4,
  "nbformat_minor": 0,
  "metadata": {
    "colab": {
      "name": "SIR.ipynb",
      "provenance": [],
      "include_colab_link": true
    },
    "kernelspec": {
      "name": "python3",
      "display_name": "Python 3"
    },
    "language_info": {
      "name": "python"
    }
  },
  "cells": [
    {
      "cell_type": "markdown",
      "metadata": {
        "id": "view-in-github",
        "colab_type": "text"
      },
      "source": [
        "<a href=\"https://colab.research.google.com/github/marciliofds/programa-1/blob/master/SIR.ipynb\" target=\"_parent\"><img src=\"https://colab.research.google.com/assets/colab-badge.svg\" alt=\"Open In Colab\"/></a>"
      ]
    },
    {
      "cell_type": "code",
      "metadata": {
        "id": "PPb1OnV4eAur"
      },
      "source": [
        "#Bibliotecas\n",
        "import numpy as np\n",
        "import matplotlib.pylab as plt"
      ],
      "execution_count": null,
      "outputs": []
    },
    {
      "cell_type": "markdown",
      "metadata": {
        "id": "Hmaw0dqceCXk"
      },
      "source": [
        "Queremos escrever a discretização do modelo SIR.\n"
      ]
    },
    {
      "cell_type": "code",
      "metadata": {
        "id": "HX5VpH5eefls"
      },
      "source": [
        "#Defina o passo\n",
        "h = 1"
      ],
      "execution_count": null,
      "outputs": []
    },
    {
      "cell_type": "code",
      "metadata": {
        "id": "AEcGacRoeusE"
      },
      "source": [
        "#Número de iterações e vetor solução\n",
        "interacoes=100\n",
        "S = np.zeros((interacoes,), dtype = float)\n",
        "I = np.zeros((interacoes,), dtype = float)\n",
        "R = np.zeros((interacoes,), dtype = float)"
      ],
      "execution_count": null,
      "outputs": []
    },
    {
      "cell_type": "code",
      "metadata": {
        "id": "0w6y-IVse0y5"
      },
      "source": [
        "#Defina condição inicial\n",
        "S[0] = 9\n",
        "I[0] = 1\n",
        "R[0] = 0"
      ],
      "execution_count": null,
      "outputs": []
    },
    {
      "cell_type": "code",
      "metadata": {
        "id": "LG9y1ct2f7KB"
      },
      "source": [
        "#Defina constantes do SIR\n",
        "b = 0.02\n",
        "g = 0.05"
      ],
      "execution_count": null,
      "outputs": []
    },
    {
      "cell_type": "code",
      "metadata": {
        "id": "phjaGB1vfJ4o"
      },
      "source": [
        "#Fazer a iteração\n",
        "for k in range(0,interacoes-1):\n",
        "  S[k+1] = S[k]-h*(b*S[k]*I[k])\n",
        "  I[k+1] = I[k]+h*(b*S[k]*I[k]-g*I[k])\n",
        "  R[k+1] = R[k]+h*(g*I[k])"
      ],
      "execution_count": null,
      "outputs": []
    },
    {
      "cell_type": "code",
      "metadata": {
        "id": "rsrQAWD3hbtl"
      },
      "source": [
        "#Intervalo de definição da solução: [0,N] com N=h*interacoes\n",
        "x=np.linspace(0.,h*interacoes,num=interacoes)"
      ],
      "execution_count": null,
      "outputs": []
    },
    {
      "cell_type": "code",
      "metadata": {
        "colab": {
          "base_uri": "https://localhost:8080/",
          "height": 267
        },
        "id": "jhcjnl6xhj3K",
        "outputId": "a5210b86-c268-4ed2-aba8-23861ab83766"
      },
      "source": [
        "#Plote a solução\n",
        "plt.plot(x,S,label=\"Curva dos Susceptíveis\")\n",
        "plt.plot(x,I,label=\"Curva dos Infectados\")\n",
        "plt.plot(x,R,label=\"Curva dos Recuperados\")\n",
        "plt.legend()\n",
        "plt.show()"
      ],
      "execution_count": null,
      "outputs": [
        {
          "output_type": "display_data",
          "data": {
            "image/png": "[encoded data removed]",
            "text/plain": [
              "<Figure size 432x288 with 1 Axes>"
            ]
          },
          "metadata": {
            "needs_background": "light"
          }
        }
      ]
    }
  ]
}